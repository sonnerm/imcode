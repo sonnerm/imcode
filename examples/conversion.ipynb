{
 "cells": [
  {
   "cell_type": "markdown",
   "id": "cb827d8d",
   "metadata": {},
   "source": [
    "# Calculating an observable of an interacting impurity in a fermionic bath\n",
    "## Preparations\n",
    "First make sure that you have installed the latest versions of imcode, freeferm and ttarray.\n",
    "\n",
    "```\n",
    "git clone https://github.com/sonnerm/imcode\n",
    "pip install --editable ./imcode/\n",
    "git clone https://github.com/sonnerm/freeferm\n",
    "pip install --editable ./freeferm/\n",
    "git clone https://github.com/sonnerm/ttarray\n",
    "pip install --editable ./ttarray/\n",
    "```\n",
    "It is recommended to use a virtual environment since those libraries are under active development. You'll also need numpy, scipy, h5py and matplotlib. \n"
   ]
  },
  {
   "cell_type": "code",
   "execution_count": 1,
   "id": "20817992",
   "metadata": {},
   "outputs": [],
   "source": [
    "import imcode\n",
    "import ttarray\n",
    "import freeferm\n",
    "import numpy as np\n",
    "import scipy.linalg as sla\n",
    "import h5py\n",
    "import matplotlib.pyplot as plt"
   ]
  },
  {
   "cell_type": "markdown",
   "id": "de06835d",
   "metadata": {},
   "source": [
    "## Load correlations from hdf5 File\n",
    "(Maybe Julian can insert some code to generate the correlations from scratch)"
   ]
  },
  {
   "cell_type": "code",
   "execution_count": 2,
   "id": "688a984c",
   "metadata": {},
   "outputs": [],
   "source": [
    "with h5py.File(\"/Users/julianthoenniss/Documents/PhD/data/compmode=C_o=1_Jx=1.0_Jy=1.0_g=0.0mu=0.0_del_t=0.1_beta=0.0_L=10_init=3_coupling=1.0_Michael_convention_correlations.hdf5\",\"r\") as f:\n",
    "    correlations_j=np.array(f[\"corr_t=3\"])\n",
    "t=correlations_j.shape[0]//8"
   ]
  },
  {
   "cell_type": "markdown",
   "id": "1f94ceff",
   "metadata": {},
   "source": []
  },
  {
   "cell_type": "markdown",
   "id": "be831129",
   "metadata": {},
   "source": [
    "## Convert to Majorana correlation matrix\n",
    "Julian's correlation matrix come in a block form $$\\Lambda_j = \\left(\\begin{array}{c c}\\langle c^\\dagger c\\rangle&\\langle c c \\rangle \\\\ \\langle c^\\dagger c^\\dagger \\rangle & \\langle c c^\\dagger \\rangle \\end{array}\\right),$$ but we need it in terms of Majorana operators.\n",
    "$$\\Lambda_m = \\langle \\gamma \\gamma \\rangle$$"
   ]
  },
  {
   "cell_type": "code",
   "execution_count": 3,
   "id": "39403d9a",
   "metadata": {},
   "outputs": [],
   "source": [
    "def convert_conventions(jcorr):\n",
    "    L=jcorr.shape[0]//2\n",
    "    jcorrn=np.zeros_like(jcorr)\n",
    "    jcorrn[::2,::2]=jcorr[:jcorr.shape[0]//2,:jcorr.shape[1]//2]\n",
    "    jcorrn[1::2,::2]=jcorr[jcorr.shape[0]//2:,:jcorr.shape[1]//2]\n",
    "    jcorrn[1::2,1::2]=jcorr[jcorr.shape[0]//2:,jcorr.shape[1]//2:]\n",
    "    jcorrn[::2,1::2]=jcorr[:jcorr.shape[0]//2,jcorr.shape[1]//2:]\n",
    "    roti=np.diag([1,0]*L,1)[:-1,:-1]+np.diag([1j,0]*L,-1)[:-1,:-1]+np.diag([1,-1j]*L)\n",
    "    jcorrf=(roti@jcorrn@roti.T.conj())\n",
    "    jcorrf=(jcorrf-np.diag(np.diag(jcorrf)))/2\n",
    "    jcorrf[2::4,:]=-jcorrf[2::4,:]\n",
    "    jcorrf[3::4,:]=-jcorrf[3::4,:]\n",
    "    jcorrf[:,2::4]=-jcorrf[:,2::4]\n",
    "    jcorrf[:,3::4]=-jcorrf[:,3::4]\n",
    "    return jcorrf\n",
    "correlations_m=convert_conventions(correlations_j)"
   ]
  },
  {
   "cell_type": "markdown",
   "id": "6c30d0ae",
   "metadata": {},
   "source": [
    "## Convert Majorana correlation matrix to circuit\n",
    "This routine uses the Majorana Fishman-White algorithm to obtain the circuit which rotates the vacuum to the Gaussian state described by our correlation matrix. For the purpose of this demonstration, choosing a cutoff of $10^{-8}$ is definitely sufficient."
   ]
  },
  {
   "cell_type": "code",
   "execution_count": 4,
   "id": "58b489a7",
   "metadata": {},
   "outputs": [],
   "source": [
    "circuit=freeferm.real.corr_to_circuit(correlations_m,nbcutoff=1e-10)"
   ]
  },
  {
   "cell_type": "markdown",
   "id": "0478400f",
   "metadata": {},
   "source": [
    "## Convert circuit to MPS\n",
    "To obtain the Influence Matrix MPS we apply the circuit to the vacuum MPS. For faster computations, we choose a maximal bond dimension $\\chi=128$ and a (relative) svd-cutoff of $10^{-12}$. The `cluster` argument of mps_vac determines to which tensor the physical legs are attached in the MPS,\n"
   ]
  },
  {
   "cell_type": "code",
   "execution_count": 129,
   "id": "dd4fe1a7",
   "metadata": {},
   "outputs": [],
   "source": [
    "mps_im025=freeferm.apply_circuit_to_mps(freeferm.mps_vac(4*t,cluster=((16,),)*t),circuit,chi=128,cutoff=1e-12)"
   ]
  },
  {
   "cell_type": "code",
   "execution_count": 101,
   "id": "5b6ec463",
   "metadata": {},
   "outputs": [],
   "source": [
    "mps_im05=freeferm.apply_circuit_to_mps(freeferm.mps_vac(4*t,cluster=((16,),)*t),circuit,chi=128,cutoff=1e-12)"
   ]
  },
  {
   "cell_type": "code",
   "execution_count": 5,
   "id": "428285ae",
   "metadata": {},
   "outputs": [
    {
     "name": "stdout",
     "output_type": "stream",
     "text": [
      "TensorTrainArray<dtype=complex128, shape=(4096,), L=3, cluster=((16,), (16,), (16,)), chi=(4, 4)>\n"
     ]
    }
   ],
   "source": [
    "mps_im01=freeferm.apply_circuit_to_mps(freeferm.mps_vac(4*t,cluster=((16,),)*t),circuit,chi=128,cutoff=1e-12)\n",
    "print(mps_im01)"
   ]
  },
  {
   "cell_type": "markdown",
   "id": "b27da0f3",
   "metadata": {},
   "source": [
    "## Define impurity initial state and channel\n",
    "\n",
    "For this demonstration we want to compare later to exact results. Hence our local unitary evolution needs to correspond to a non-interacting free fermion model. Here we choose a spin flip term $J=3$ and a local on-site potential $E=4$, both scaled with the timestep $\\mathrm{d}t=0.1$:\n",
    "$$\\hat{U} = e^{i\\mathrm{d}t J (S^x \\otimes S^x + S^y \\otimes S^y) + i \\mathrm{d}t E (S^z\\otimes 1 + 1 \\otimes S^z)}$$\n",
    "To break the spin symmetry our initial state will be spin polarized; the spin up state is occupied, the spin down state is empty."
   ]
  },
  {
   "cell_type": "code",
   "execution_count": 9,
   "id": "2699eb28",
   "metadata": {},
   "outputs": [],
   "source": [
    "SZ=np.diag([1,-1])\n",
    "ID=np.eye(2)\n",
    "SX=np.array([[0,1],[1,0]])\n",
    "SY=np.array([[0,-1j],[1j,0]])\n",
    "dt = .1\n",
    "U = 8.\n",
    "channel=imcode.unitary_channel(sla.expm(-dt*1j*U/4*(np.kron(SZ,SZ))))\n",
    "channel025=imcode.unitary_channel(sla.expm(-0.025*1j*U/4*(np.kron(SZ,SZ))))\n",
    "channel05=imcode.unitary_channel(sla.expm(-0.05*1j*U/4*(np.kron(SZ,SZ))))\n",
    "channel01=imcode.unitary_channel(sla.expm(-0.1*1j*U/4*(np.kron(SZ,SZ))))\n",
    "init=np.kron(np.diag([1,0]),np.diag([0,1])) #spin up occupied, spin down unoccupied\n",
    "init=np.kron(np.diag([0,1]),np.diag([.5,.5])) #up empty, down inf. temp\n",
    "#init=np.kron(np.diag([0.5,0.5]),np.diag([0.5,0.5])) #inf temps"
   ]
  },
  {
   "cell_type": "markdown",
   "id": "14ee522f",
   "metadata": {},
   "source": [
    "## Compute density matrix evolution\n",
    "\n",
    "Finally we can compute the density matrix evolution. Since our Influence matrix is quantized with a different ordering, we need to correct for the signs (previously known as ''magic MPO'' 😜). This is done by setting `fermionic=True`. Furthermore our IM was created as a wavefunction and is hence normalized according to the square norm. To normalize the density matrices we set `normalize=True`. Then we call `brickwork_embedded_evolution` with the left IM, the impurity evolution channel, the right IM and the impurity initial state. Since this function is a generator, we need to collect it into a list."
   ]
  },
  {
   "cell_type": "code",
   "execution_count": 122,
   "id": "7b214298",
   "metadata": {},
   "outputs": [],
   "source": [
    "dms025=list(imcode.brickwork_embedded_evolution(mps_im025,channel025,mps_im025,init,fermionic=True,normalize=True))\n"
   ]
  },
  {
   "cell_type": "code",
   "execution_count": 106,
   "id": "9244b119",
   "metadata": {},
   "outputs": [],
   "source": [
    "dms05=list(imcode.brickwork_embedded_evolution(mps_im05,channel05,mps_im05,init,fermionic=True,normalize=True))\n"
   ]
  },
  {
   "cell_type": "code",
   "execution_count": 10,
   "id": "42b85d53",
   "metadata": {},
   "outputs": [],
   "source": [
    "dms01=list(imcode.brickwork_embedded_evolution(mps_im01,channel01,mps_im01,init,fermionic=True,normalize=True))"
   ]
  },
  {
   "cell_type": "code",
   "execution_count": 16,
   "id": "62fe4d90",
   "metadata": {},
   "outputs": [
    {
     "name": "stdout",
     "output_type": "stream",
     "text": [
      "[[0.07011116-2.24161886e-09j 0.        +0.00000000e+00j\n",
      "  0.        +0.00000000e+00j 0.        +0.00000000e+00j]\n",
      " [0.        +0.00000000e+00j 0.07011116+2.26197436e-09j\n",
      "  0.        +0.00000000e+00j 0.        +0.00000000e+00j]\n",
      " [0.        +0.00000000e+00j 0.        +0.00000000e+00j\n",
      "  0.42988884+2.59663872e-08j 0.        +0.00000000e+00j]\n",
      " [0.        +0.00000000e+00j 0.        +0.00000000e+00j\n",
      "  0.        +0.00000000e+00j 0.42988884-2.59663703e-08j]]\n"
     ]
    }
   ],
   "source": [
    "#f=h5py.File(\"results.hdf5\",\"w\")\n",
    "#f[\"dm\"]=dms\n",
    "#f.close()\n",
    "print(np.array(dms01)[6,:,:])"
   ]
  },
  {
   "cell_type": "markdown",
   "id": "58e80828",
   "metadata": {},
   "source": [
    "## Plot results\n",
    "\n",
    "We plot observables only from every second density matrix since they correspond to before/after the impurity action.\n",
    "\n",
    "All done 🙂"
   ]
  },
  {
   "cell_type": "code",
   "execution_count": 165,
   "id": "95020880",
   "metadata": {},
   "outputs": [
    {
     "name": "stderr",
     "output_type": "stream",
     "text": [
      "/opt/anaconda3/lib/python3.8/site-packages/numpy/core/_asarray.py:102: ComplexWarning: Casting complex values to real discards the imaginary part\n",
      "  return array(a, dtype, copy=False, order=order)\n",
      "/opt/anaconda3/lib/python3.8/site-packages/numpy/core/_asarray.py:102: ComplexWarning: Casting complex values to real discards the imaginary part\n",
      "  return array(a, dtype, copy=False, order=order)\n",
      "/opt/anaconda3/lib/python3.8/site-packages/numpy/core/_asarray.py:102: ComplexWarning: Casting complex values to real discards the imaginary part\n",
      "  return array(a, dtype, copy=False, order=order)\n",
      "/opt/anaconda3/lib/python3.8/site-packages/numpy/core/_asarray.py:102: ComplexWarning: Casting complex values to real discards the imaginary part\n",
      "  return array(a, dtype, copy=False, order=order)\n",
      "/opt/anaconda3/lib/python3.8/site-packages/numpy/core/_asarray.py:102: ComplexWarning: Casting complex values to real discards the imaginary part\n",
      "  return array(a, dtype, copy=False, order=order)\n",
      "/opt/anaconda3/lib/python3.8/site-packages/numpy/core/_asarray.py:102: ComplexWarning: Casting complex values to real discards the imaginary part\n",
      "  return array(a, dtype, copy=False, order=order)\n",
      "/opt/anaconda3/lib/python3.8/site-packages/numpy/core/_asarray.py:102: ComplexWarning: Casting complex values to real discards the imaginary part\n",
      "  return array(a, dtype, copy=False, order=order)\n",
      "/opt/anaconda3/lib/python3.8/site-packages/numpy/core/_asarray.py:102: ComplexWarning: Casting complex values to real discards the imaginary part\n",
      "  return array(a, dtype, copy=False, order=order)\n",
      "/opt/anaconda3/lib/python3.8/site-packages/numpy/core/_asarray.py:102: ComplexWarning: Casting complex values to real discards the imaginary part\n",
      "  return array(a, dtype, copy=False, order=order)\n",
      "/opt/anaconda3/lib/python3.8/site-packages/numpy/core/_asarray.py:102: ComplexWarning: Casting complex values to real discards the imaginary part\n",
      "  return array(a, dtype, copy=False, order=order)\n",
      "/opt/anaconda3/lib/python3.8/site-packages/numpy/core/_asarray.py:102: ComplexWarning: Casting complex values to real discards the imaginary part\n",
      "  return array(a, dtype, copy=False, order=order)\n",
      "/opt/anaconda3/lib/python3.8/site-packages/numpy/core/_asarray.py:102: ComplexWarning: Casting complex values to real discards the imaginary part\n",
      "  return array(a, dtype, copy=False, order=order)\n",
      "<ipython-input-165-b854ae76418c>:132: MatplotlibDeprecationWarning: savefig() got unexpected keyword argument \"dip\" which is no longer supported as of 3.3 and will become an error two minor releases later\n",
      "  plt.savefig('/Users/julianthoenniss/Documents/PhD/data/MPS_Cohen_benchmark.pdf', bbox_inches='tight',dip=300)\n"
     ]
    },
    {
     "data": {
      "image/png": "[encoded data removed]",
      "text/plain": [
       "<Figure size 972x158.4 with 1 Axes>"
      ]
     },
     "metadata": {
      "needs_background": "light"
     },
     "output_type": "display_data"
    }
   ],
   "source": [
    "plt.rcParams.update({\n",
    "  \"text.usetex\": True,\n",
    "  \"font.family\": \"Helvetica\",\n",
    "    \"font.size\" : 8\n",
    "})\n",
    "def cl(va,lt,cmap='Blues',invert=False,margin=0.1,lowcut=0,upcut=1): \n",
    "    cmap = plt.cm.get_cmap(cmap)\n",
    "    ind=list(lt).index(va) \n",
    "    if len(lt)>1:\n",
    "        rt=ind/(len(lt)-1)\n",
    "        rt*=1-min(1-margin,lowcut+1-upcut)\n",
    "        rt+=lowcut\n",
    "    else:\n",
    "        rt=0\n",
    "        rt+=lowcut\n",
    "    rt=rt*(1-2*margin)+margin\n",
    "    if invert:\n",
    "        rt=1-rt    \n",
    "    return cmap(rt)\n",
    "\n",
    "\n",
    "interval = 1\n",
    "\n",
    "Gamma = 1.\n",
    "fig, ax = plt.subplots()\n",
    "fig.set_size_inches(13.5,2.2) \n",
    "\n",
    "ax.tick_params(labelright=True)\n",
    "ax.yaxis.set_ticks_position('both')\n",
    "ax.set_xlim(left = 0)\n",
    "ax.set_xlim(right =10)\n",
    "\n",
    "dms05 = np.array(dms05)\n",
    "z=6\n",
    "#ax.plot(np.arange(0,1001)*delta_t*0.05 ,data_trace[::2],linewidth=1,linestyle= '-',label='MPS '+ r'$Tr(\\rho)$',color=cl(z,[0,1,2,3,4,5,6]))\n",
    "z=1\n",
    "ax.plot(np.arange(0,21)*0.05 ,dms05[::2,0,0],linewidth=1,linestyle= '-',label='MPS,00',color=cl(z,[0,1,2,3,4,5,6]))\n",
    "z=2\n",
    "ax.plot(np.arange(0,21)*0.05,  dms05[::2,1,1],linewidth=1,linestyle= '-',label='MPS,11',color=cl(z,[0,1,2,3,4,5,6]))\n",
    "z=3\n",
    "ax.plot(np.arange(0,21)*0.05 ,dms05[::2,2,2],linewidth=1,linestyle= '-',label='MPS,22',color=cl(z,[0,1,2,3,4,5,6]))\n",
    "z=4\n",
    "ax.plot(np.arange(0,21)*0.05 ,dms05[::2,3,3],linewidth=1,linestyle= '-',label='MPS,33',color=cl(z,[0,1,2,3,4,5,6]))\n",
    "z=5\n",
    "\n",
    "def cl(va,lt,cmap='Reds',invert=False,margin=0.1,lowcut=0,upcut=1): \n",
    "    cmap = plt.cm.get_cmap(cmap)\n",
    "    ind=list(lt).index(va) \n",
    "    if len(lt)>1:\n",
    "        rt=ind/(len(lt)-1)\n",
    "        rt*=1-min(1-margin,lowcut+1-upcut)\n",
    "        rt+=lowcut\n",
    "    else:\n",
    "        rt=0\n",
    "        rt+=lowcut\n",
    "    rt=rt*(1-2*margin)+margin\n",
    "    if invert:\n",
    "        rt=1-rt    \n",
    "    return cmap(rt)\n",
    "\n",
    "dms025 = np.array(dms025)\n",
    "z=6\n",
    "#ax.plot(np.arange(0,1001)*delta_t*0.05 ,data_trace[::2],linewidth=1,linestyle= '-',label='MPS '+ r'$Tr(\\rho)$',color=cl(z,[0,1,2,3,4,5,6]))\n",
    "z=1\n",
    "ax.plot(np.arange(0,41)*0.025 ,dms025[::2,0,0],linewidth=1,linestyle= '--',label='MPS,00',color=cl(z,[0,1,2,3,4,5,6]))\n",
    "z=2\n",
    "ax.plot(np.arange(0,41)*0.025,  dms025[::2,1,1],linewidth=1,linestyle= '--',label='MPS,11',color=cl(z,[0,1,2,3,4,5,6]))\n",
    "z=3\n",
    "ax.plot(np.arange(0,41)*0.025 ,dms025[::2,2,2],linewidth=1,linestyle= '--',label='MPS,22',color=cl(z,[0,1,2,3,4,5,6]))\n",
    "z=4\n",
    "ax.plot(np.arange(0,41)*0.025 ,dms025[::2,3,3],linewidth=1,linestyle= '--',label='MPS,33',color=cl(z,[0,1,2,3,4,5,6]))\n",
    "z=5\n",
    "\n",
    "def cl(va,lt,cmap='Greens',invert=False,margin=0.1,lowcut=0,upcut=1): \n",
    "    cmap = plt.cm.get_cmap(cmap)\n",
    "    ind=list(lt).index(va) \n",
    "    if len(lt)>1:\n",
    "        rt=ind/(len(lt)-1)\n",
    "        rt*=1-min(1-margin,lowcut+1-upcut)\n",
    "        rt+=lowcut\n",
    "    else:\n",
    "        rt=0\n",
    "        rt+=lowcut\n",
    "    rt=rt*(1-2*margin)+margin\n",
    "    if invert:\n",
    "        rt=1-rt    \n",
    "    return cmap(rt)\n",
    "\n",
    "dms01 = np.array(dms01)\n",
    "z=6\n",
    "#ax.plot(np.arange(0,1001)*delta_t*0.05 ,data_trace[::2],linewidth=1,linestyle= '-',label='MPS '+ r'$Tr(\\rho)$',color=cl(z,[0,1,2,3,4,5,6]))\n",
    "z=1\n",
    "ax.plot(np.arange(1,41)*0.01 ,dms01[1::2,0,0],linewidth=1,linestyle= '--',label='MPS,00',color=cl(z,[0,1,2,3,4,5,6]))\n",
    "z=2\n",
    "ax.plot(np.arange(1,41)*0.01,  dms01[1::2,1,1],linewidth=1,linestyle= '--',label='MPS,11',color=cl(z,[0,1,2,3,4,5,6]))\n",
    "z=3\n",
    "ax.plot(np.arange(1,41)*0.01 ,dms01[1::2,2,2],linewidth=1,linestyle= '--',label='MPS,22',color=cl(z,[0,1,2,3,4,5,6]))\n",
    "z=4\n",
    "ax.plot(np.arange(1,41)*0.01 ,dms01[1::2,3,3],linewidth=1,linestyle= '--',label='MPS,33',color=cl(z,[0,1,2,3,4,5,6]))\n",
    "z=5\n",
    "\n",
    "Cohen_empty_x = [.383]\n",
    "Cohen_empty_y = [.763]\n",
    "plt.scatter(Cohen_empty_x,Cohen_empty_y,color='black',marker=\"2\")#,label='Segal, Millis, Reichmann (2010)'\n",
    "\n",
    "Cohen_empty_x = [0,0.2,0.4,0.6,0.8,1.,10]\n",
    "Cohen_empty_y = [1.,0.858,0.766,0.767,0.76,.749,.611]\n",
    "plt.scatter(Cohen_empty_x,Cohen_empty_y,color='blue',marker=\"2\")#,label='Segal, Millis, Reichmann (2010)'\n",
    "\"\"\"\n",
    "Cohen_up_x = [0.2,0.25,0.3,0.35,0.4,0.5,0.6,0.8,1,1.2,1.4,1.6,1.8,2.,2.2,2.4,2.5]\n",
    "Cohen_up_y = [0.1033,0.111,0.116,0.123,0.129,0.1363,0.143,0.1461,0.139,0.1311,0.1261,0.1206,0.11778,0.11667,0.11667,0.11667, 0.117]\n",
    "plt.scatter(Cohen_up_x,Cohen_up_y,color='black',marker=\"2\")\n",
    "\n",
    "Cohen_down_x = [.2,0.25,.3,.35,0.4,0.5,0.6,0.8,1,1.2,1.4,1.6,1.8,2.,2.2,2.4,2.5]\n",
    "Cohen_down_y = [0.12,0.135,.14667,.1589,0.17,0.1868,0.201,.21889,.222,.21944,.218,.215,.2127,.2123,.2122,.2123,.213]\n",
    "plt.scatter(Cohen_down_x,Cohen_down_y,color='black',marker=\"2\")\n",
    "\n",
    "Cohen_both_x = [.2,0.25,.3,.35,0.4,0.5,0.6,.8,1,1.2,1.4,1.6,1.8,2.0,2.2,2.4,2.5]\n",
    "Cohen_both_y = [.137,0.1595,.1778,.1956,0.2128,0.2403,0.263,.2972,0.3105,.3161,.3194,.3189,.3183,.3189,.319,.3194,0.32]\n",
    "plt.scatter(Cohen_both_x,Cohen_both_y,color='black',marker=\"2\")\n",
    "\"\"\"\n",
    "plt.xlabel('evolution time '+r'$\\tau$'+ ' (units of '+ r'$\\Gamma^{-1}$)')\n",
    "plt.ylabel('occupation number '+r'$\\langle n_{d,\\uparrow}(\\tau)\\rangle$')\n",
    "#print(data_times)\n",
    "ax.legend(bbox_to_anchor=(.9, 0.8))\n",
    "\n",
    "plt.scatter(0.92,0.031,color='black',marker=\"2\")\n",
    "ax.text(1.,0.025,'Cohen (2015)')\n",
    "#ax.text(.0097,0.145,'cutoff: ' + r'$\\epsilon = 10^{-10}$')\n",
    "#ax.text(.25,0.04,'Segal, Millis, Reichmann (2011)')\n",
    "#plt.show()\n",
    "plt.savefig('/Users/julianthoenniss/Documents/PhD/data/MPS_Cohen_benchmark.pdf', bbox_inches='tight',dip=300)"
   ]
  },
  {
   "cell_type": "code",
   "execution_count": 125,
   "id": "631cbc4d",
   "metadata": {},
   "outputs": [
    {
     "name": "stderr",
     "output_type": "stream",
     "text": [
      "/opt/anaconda3/lib/python3.8/site-packages/numpy/core/_asarray.py:102: ComplexWarning: Casting complex values to real discards the imaginary part\n",
      "  return array(a, dtype, copy=False, order=order)\n"
     ]
    },
    {
     "data": {
      "image/png": "[encoded data removed]",
      "text/plain": [
       "<Figure size 432x288 with 1 Axes>"
      ]
     },
     "metadata": {
      "needs_background": "light"
     },
     "output_type": "display_data"
    }
   ],
   "source": [
    "plt.plot([np.trace(np.diag([2,1,1,0])@d) for d in dms025[::2]],label=\"$\\\\mathrm{Tr}(\\\\hat{n}\\\\rho)$\")\n",
    "plt.plot([np.trace(np.diag([0,1,-1,0])@d) for d in dms025[::2]],label=\"$\\\\mathrm{Tr}(\\\\hat{S}^z\\\\rho)$\")\n",
    "plt.plot([np.trace(d) for d in dms025[::2]],label=\"$\\\\mathrm{Tr}(\\\\rho)$\")\n",
    "plt.legend()\n",
    "plt.savefig(\"result.pdf\")\n",
    "plt.show()"
   ]
  },
  {
   "cell_type": "code",
   "execution_count": null,
   "id": "29eb65cd",
   "metadata": {},
   "outputs": [],
   "source": []
  }
 ],
 "metadata": {
  "kernelspec": {
   "display_name": "Python 3 (ipykernel)",
   "language": "python",
   "name": "python3"
  },
  "language_info": {
   "codemirror_mode": {
    "name": "ipython",
    "version": 3
   },
   "file_extension": ".py",
   "mimetype": "text/x-python",
   "name": "python",
   "nbconvert_exporter": "python",
   "pygments_lexer": "ipython3",
   "version": "3.11.3"
  },
  "vscode": {
   "interpreter": {
    "hash": "40d3a090f54c6569ab1632332b64b2c03c39dcf918b08424e98f38b5ae0af88f"
   }
  }
 },
 "nbformat": 4,
 "nbformat_minor": 5
}
