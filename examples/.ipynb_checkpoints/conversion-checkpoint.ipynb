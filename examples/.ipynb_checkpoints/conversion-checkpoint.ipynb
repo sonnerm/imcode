{
 "cells": [
  {
   "cell_type": "markdown",
   "id": "cb827d8d",
   "metadata": {},
   "source": [
    "# Calculating an observable of an interacting impurity in a fermionic bath\n",
    "## Preparations\n",
    "First make sure that you have installed the latest versions of imcode, freeferm and ttarray.\n",
    "\n",
    "```\n",
    "git clone https://github.com/sonnerm/imcode\n",
    "pip install --editable ./imcode/\n",
    "git clone https://github.com/sonnerm/freeferm\n",
    "pip install --editable ./freeferm/\n",
    "git clone https://github.com/sonnerm/ttarray\n",
    "pip install --editable ./ttarray/\n",
    "```\n",
    "It is recommended to use a virtual environment since those libraries are under active development. You'll also need numpy, scipy, h5py and matplotlib. \n"
   ]
  },
  {
   "cell_type": "code",
   "execution_count": 2,
   "id": "20817992",
   "metadata": {},
   "outputs": [],
   "source": [
    "import imcode\n",
    "import ttarray\n",
    "import freeferm\n",
    "import numpy as np\n",
    "import scipy.linalg as sla\n",
    "import h5py\n",
    "import matplotlib.pyplot as plt"
   ]
  },
  {
   "cell_type": "markdown",
   "id": "de06835d",
   "metadata": {},
   "source": [
    "## Define spectral density\n",
    "We use the spectral density found in the paper by Cohen et. al. $f(\\omega)=\\frac{\\Gamma}{(1+e^{\\nu(x-\\epsilon_c)})(1+e^{-\\nu(x+\\epsilon_c)})}$"
   ]
  },
  {
   "cell_type": "code",
   "execution_count": 3,
   "id": "688a984c",
   "metadata": {},
   "outputs": [],
   "source": [
    "def spec_dens(x):\n",
    "    e_c = 10.\n",
    "    nu = 10.\n",
    "    return  2 /((1+np.exp(nu*(x - e_c))) * (1+np.exp(-nu*(x + e_c))))"
   ]
  },
  {
   "cell_type": "markdown",
   "id": "1f94ceff",
   "metadata": {},
   "source": [
    "## Compute the Influence matrix as Gaussian state\n",
    "We now represent the IM as $|I\\rangle \\propto e^{i c^\\dagger_i B_{ij} c^\\dagger_j}|\\Omega\\rangle$"
   ]
  },
  {
   "cell_type": "code",
   "execution_count": 9,
   "id": "3357fbbc-716b-43c6-b90f-87a559a60d36",
   "metadata": {},
   "outputs": [],
   "source": [
    "omin=-12 #integration bounds\n",
    "omax=12\n",
    "beta=50.0 #inverse temperature\n",
    "mu=0.0 #chemical potential\n",
    "tmax=2.0\n",
    "nsteps=40 #just for computing things fast on the laptop\n",
    "nsubsteps=2 #number of subdivisions\n",
    "bmat=imcode.spectral_density_to_fermiexp(spec_dens,omin,omax,beta,mu,tmax,nsteps,nsubsteps)"
   ]
  },
  {
   "cell_type": "markdown",
   "id": "be831129",
   "metadata": {},
   "source": [
    "## Convert to correlation matrix\n",
    "My Fishmann-White implementation needs the correlation matrix in majorana form, that is\n",
    "$$\\Lambda_{ij} = \\langle \\gamma_i \\gamma_j \\rangle$$"
   ]
  },
  {
   "cell_type": "code",
   "execution_count": 10,
   "id": "39403d9a",
   "metadata": {},
   "outputs": [],
   "source": [
    "bcorr=imcode.fermiexp_to_fermicorr(bmat)"
   ]
  },
  {
   "cell_type": "markdown",
   "id": "6c30d0ae",
   "metadata": {},
   "source": [
    "## Convert Majorana correlation matrix to circuit\n",
    "This routine uses the Majorana Fishman-White algorithm to obtain the circuit which rotates the vacuum to the Gaussian state described by our correlation matrix. For the purpose of this demonstration, choosing a cutoff of $10^{-8}$ is definitely sufficient."
   ]
  },
  {
   "cell_type": "code",
   "execution_count": 11,
   "id": "58b489a7",
   "metadata": {},
   "outputs": [],
   "source": [
    "circuit=imcode.fermicorr_to_circuit(bcorr,nbcutoff=1e-8)"
   ]
  },
  {
   "cell_type": "markdown",
   "id": "0478400f",
   "metadata": {},
   "source": [
    "## Convert circuit to MPS\n",
    "To obtain the Influence Matrix MPS we apply the circuit to the vacuum MPS. For faster computations, we choose a maximal bond dimension $\\chi=128$ and a (relative) svd-cutoff of $10^{-12}$."
   ]
  },
  {
   "cell_type": "code",
   "execution_count": 17,
   "id": "dd4fe1a7",
   "metadata": {},
   "outputs": [],
   "source": [
    "mps_fermi=imcode.circuit_to_mps(circuit,nsteps,chi=128,svdcutoff=1e-12)"
   ]
  },
  {
   "cell_type": "markdown",
   "id": "14ee522f",
   "metadata": {},
   "source": [
    "## Change the Jordan Wigner order\n",
    "The Fishmann-White IM is quantized according to the MPS-leg order. However, if we want our impurity to be standard gates one would use in ED, it is necessary to change the Jordan Wigner order. The resulting MPS should be exactly what one would get from contracting a chain mapping in the transverse direction."
   ]
  },
  {
   "cell_type": "code",
   "execution_count": 18,
   "id": "7b214298",
   "metadata": {},
   "outputs": [],
   "source": [
    "mps_spin=imcode.fermi_to_spin(mps_fermi)"
   ]
  },
  {
   "cell_type": "markdown",
   "id": "b27da0f3",
   "metadata": {},
   "source": [
    "## Define impurity initial state and channel\n",
    "For this demonstration we want to compute the Anderson Impurity model to compare to Cohen et.al. In spin basis the unitary time evolution operator is given by:\n",
    "$$\\hat{U} = e^{i\\mathrm{d}t U/4 (S^Z \\otimes S^z)}$$\n",
    "To break the spin symmetry our initial state will be spin polarized; the spin up state is occupied, the spin down state is empty."
   ]
  },
  {
   "cell_type": "code",
   "execution_count": 19,
   "id": "2699eb28",
   "metadata": {},
   "outputs": [],
   "source": [
    "SZ=np.diag([1,-1])\n",
    "ID=np.eye(2)\n",
    "SX=np.array([[0,1],[1,0]])\n",
    "SY=np.array([[0,-1j],[1j,0]])\n",
    "dt = .1\n",
    "U = 8.\n",
    "channel=imcode.unitary_channel(sla.expm(-dt*1j*U/4*(np.kron(SZ,SZ))))\n",
    "init=np.kron(np.diag([1,0]),np.diag([0,1])) #spin up occupied, spin down unoccupied"
   ]
  },
  {
   "cell_type": "markdown",
   "id": "05b3e2d3-68a4-43eb-97ef-997cc1e21e10",
   "metadata": {},
   "source": [
    "## Compute the density matrix time evolution\n",
    "We now compute the density matrix time evolution of the impurity coupled to two spin species."
   ]
  },
  {
   "cell_type": "code",
   "execution_count": 20,
   "id": "9244b119",
   "metadata": {},
   "outputs": [],
   "source": [
    "dms=list(imcode.brickwork_embedded_evolution(mps_spin,channel,mps_spin,init,normalize=True))\n"
   ]
  },
  {
   "cell_type": "markdown",
   "id": "58e80828",
   "metadata": {},
   "source": [
    "## Plot results\n",
    "\n",
    "We plot observables only from every second density matrix since they correspond to before/after the impurity action.\n",
    "The results are compared with data points from Cohen et. al.\n",
    "\n",
    "All done 🙂"
   ]
  },
  {
   "cell_type": "code",
   "execution_count": 30,
   "id": "95020880",
   "metadata": {},
   "outputs": [
    {
     "name": "stderr",
     "output_type": "stream",
     "text": [
      "/home/michael/.pyenv/lib/python3.11/site-packages/matplotlib/cbook.py:1699: ComplexWarning: Casting complex values to real discards the imaginary part\n",
      "  return math.isfinite(val)\n",
      "/home/michael/.pyenv/lib/python3.11/site-packages/matplotlib/cbook.py:1345: ComplexWarning: Casting complex values to real discards the imaginary part\n",
      "  return np.asarray(x, float)\n"
     ]
    },
    {
     "data": {
      "text/plain": [
       "Text(0, 0.5, '$\\\\rho_{ii}$')"
      ]
     },
     "execution_count": 30,
     "metadata": {},
     "output_type": "execute_result"
    },
    {
     "data": {
      "image/png": "[encoded data removed]",
      "text/plain": [
       "<Figure size 640x480 with 1 Axes>"
      ]
     },
     "metadata": {},
     "output_type": "display_data"
    }
   ],
   "source": [
    "import matplotlib.pyplot as plt\n",
    "import matplotlib\n",
    "matplotlib.rcParams['lines.linewidth'] = 2.0\n",
    "font = {'family' : 'Sans',\n",
    "    'weight' : 'normal'}\n",
    "matplotlib.rc('font', **font)\n",
    "matplotlib.rcParams['text.usetex'] =True\n",
    "matplotlib.rc('font', family='Helvetica',size=18)\n",
    "\n",
    "\n",
    "plt.plot(np.linspace(0,2.0,41,endpoint=True),[r[0,0]/np.trace(r) for r in dms[::2]],label=r\"$|\\uparrow\\downarrow\\rangle$\")\n",
    "plt.plot(np.linspace(0,2.0,41,endpoint=True),[r[1,1]/np.trace(r) for r in dms[::2]],label=r\"$|\\uparrow\\rangle$\")\n",
    "plt.plot(np.linspace(0,2.0,41,endpoint=True),[r[2,2]/np.trace(r) for r in dms[::2]],label=r\"$|\\downarrow\\rangle$\")\n",
    "plt.plot(np.linspace(0,2.0,41,endpoint=True),[r[3,3]/np.trace(r) for r in dms[::2]],label=r\"$|0\\rangle$\")\n",
    "plt.legend()\n",
    "plt.xlabel('t')\n",
    "plt.ylabel(r'$\\rho_{ii}$')\n"
   ]
  },
  {
   "cell_type": "code",
   "execution_count": null,
   "id": "29eb65cd",
   "metadata": {},
   "outputs": [],
   "source": []
  }
 ],
 "metadata": {
  "kernelspec": {
   "display_name": "Python 3 (ipykernel)",
   "language": "python",
   "name": "python3"
  },
  "language_info": {
   "codemirror_mode": {
    "name": "ipython",
    "version": 3
   },
   "file_extension": ".py",
   "mimetype": "text/x-python",
   "name": "python",
   "nbconvert_exporter": "python",
   "pygments_lexer": "ipython3",
   "version": "3.11.8"
  },
  "vscode": {
   "interpreter": {
    "hash": "40d3a090f54c6569ab1632332b64b2c03c39dcf918b08424e98f38b5ae0af88f"
   }
  }
 },
 "nbformat": 4,
 "nbformat_minor": 5
}
