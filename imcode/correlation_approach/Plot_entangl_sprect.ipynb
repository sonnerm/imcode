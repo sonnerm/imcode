{
 "cells": [
  {
   "cell_type": "code",
   "execution_count": 55,
   "id": "6d11020d",
   "metadata": {},
   "outputs": [
    {
     "data": {
      "text/html": [
       "<style>.container { width:100% !important; }</style>"
      ],
      "text/plain": [
       "<IPython.core.display.HTML object>"
      ]
     },
     "metadata": {},
     "output_type": "display_data"
    }
   ],
   "source": [
    "from IPython.core.display import display, HTML\n",
    "display(HTML(\"<style>.container { width:100% !important; }</style>\"))"
   ]
  },
  {
   "cell_type": "code",
   "execution_count": 69,
   "id": "7472651b",
   "metadata": {},
   "outputs": [],
   "source": [
    "import numpy as np\n",
    "import h5py\n",
    "import matplotlib.pyplot as plt\n",
    "def zero_to_nan(values):\n",
    "    \"\"\"Replace every 0 with 'nan' and return a copy.\"\"\"\n",
    "    return [float('nan') if x==0 else x for x in values]\n"
   ]
  },
  {
   "cell_type": "code",
   "execution_count": 57,
   "id": "8b179d8f",
   "metadata": {},
   "outputs": [],
   "source": [
    "filename1 = '/Users/julianthoenniss/Documents/PhD/data/ent_entropy_Jx=1.0_Jy=2.0_g=0.0_del_t=1_beta=1.0_L=30'\n"
   ]
  },
  {
   "cell_type": "code",
   "execution_count": 86,
   "id": "dc15670e",
   "metadata": {},
   "outputs": [
    {
     "name": "stdout",
     "output_type": "stream",
     "text": [
      "time step: 4\n"
     ]
    }
   ],
   "source": [
    "iterator = 3\n",
    "\n",
    "times = []\n",
    "time_step = 0\n",
    "with h5py.File(filename1 + '.hdf5', 'r') as f:\n",
    "    data_entr = f['temp_entr']\n",
    "    times = data_entr[:,0]\n",
    "    time_step = int(times[iterator])\n",
    "\n",
    "print('time step:', time_step)"
   ]
  },
  {
   "cell_type": "code",
   "execution_count": 81,
   "id": "7ae3b342",
   "metadata": {},
   "outputs": [],
   "source": [
    "entangl_spectr_data = np.zeros((time_step,8*time_step))\n",
    "\n",
    "with h5py.File(filename1 + '.hdf5', 'r') as f:\n",
    "    data_entangl = f['entangl_spectr']\n",
    "    \n",
    "    for time_cut in range(time_step):\n",
    "        entangl_spectr_data[time_cut,4*(time_step - time_cut):4*(time_step + time_cut)] = data_entangl[iterator,time_cut,0:8*time_cut]\n"
   ]
  },
  {
   "cell_type": "code",
   "execution_count": 82,
   "id": "b8bd0852",
   "metadata": {},
   "outputs": [],
   "source": [
    "data_array1 = np.zeros((time_step,2,8*time_step))\n",
    "\n",
    "for time_cut in range (time_step):\n",
    "    data_array1[time_cut, 0,:] = np.arange(8*time_step)\n",
    "    data_array1[time_cut, 1,:] = entangl_spectr_data[time_cut,:8*time_step]\n"
   ]
  },
  {
   "cell_type": "code",
   "execution_count": 83,
   "id": "627a3e5b",
   "metadata": {
    "scrolled": true
   },
   "outputs": [
    {
     "data": {
      "text/plain": [
       "<matplotlib.legend.Legend at 0x7fcbabb4e790>"
      ]
     },
     "execution_count": 83,
     "metadata": {},
     "output_type": "execute_result"
    },
    {
     "data": {
      "image/png": "[encoded data removed]",
      "text/plain": [
       "<Figure size 720x360 with 1 Axes>"
      ]
     },
     "metadata": {
      "needs_background": "light"
     },
     "output_type": "display_data"
    }
   ],
   "source": [
    "fig, ax = plt.subplots()\n",
    "plt.rcParams['figure.figsize'] = [10, 5]\n",
    "\n",
    "ax.set_xlabel('entry')\n",
    "ax.set_ylabel('eigenvalue of red. DM')\n",
    "\n",
    "for time_cut in range(time_step):\n",
    "    ax.plot( data_array1[time_cut,0,:], zero_to_nan(data_array1[time_cut,1,:]), label=r'$t = %d$' % time_cut, marker='o', alpha=.5, ms=5)\n",
    "\n",
    "ax.yaxis.set_ticks_position('both')\n",
    "ax.tick_params(axis=\"y\",direction=\"in\")\n",
    "ax.tick_params(axis=\"x\",direction=\"in\")\n",
    "ax.legend(loc=\"upper right\")"
   ]
  },
  {
   "cell_type": "code",
   "execution_count": null,
   "id": "cfe92c07",
   "metadata": {},
   "outputs": [],
   "source": []
  },
  {
   "cell_type": "code",
   "execution_count": null,
   "id": "305545d4",
   "metadata": {},
   "outputs": [],
   "source": []
  }
 ],
 "metadata": {
  "kernelspec": {
   "display_name": "Python 3",
   "language": "python",
   "name": "python3"
  },
  "language_info": {
   "codemirror_mode": {
    "name": "ipython",
    "version": 3
   },
   "file_extension": ".py",
   "mimetype": "text/x-python",
   "name": "python",
   "nbconvert_exporter": "python",
   "pygments_lexer": "ipython3",
   "version": "3.8.8"
  }
 },
 "nbformat": 4,
 "nbformat_minor": 5
}
