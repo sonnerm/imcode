{
 "cells": [
  {
   "cell_type": "code",
   "execution_count": 56,
   "id": "52ecc8cd",
   "metadata": {},
   "outputs": [
    {
     "data": {
      "text/html": [
       "<style>.container { width:100% !important; }</style>"
      ],
      "text/plain": [
       "<IPython.core.display.HTML object>"
      ]
     },
     "metadata": {},
     "output_type": "display_data"
    }
   ],
   "source": [
    "from IPython.core.display import display, HTML\n",
    "display(HTML(\"<style>.container { width:100% !important; }</style>\"))"
   ]
  },
  {
   "cell_type": "code",
   "execution_count": 149,
   "id": "925cbc58",
   "metadata": {},
   "outputs": [],
   "source": [
    "import numpy as np\n",
    "import h5py\n",
    "import matplotlib.pyplot as plt\n",
    "from scipy.linalg import det\n",
    "def zero_to_nan(values):\n",
    "    \"\"\"Replace every 0 with 'nan' and return a copy.\"\"\"\n",
    "    return [float('nan') if x==0 else x for x in values]\n"
   ]
  },
  {
   "cell_type": "code",
   "execution_count": 259,
   "id": "485a5bad",
   "metadata": {},
   "outputs": [
    {
     "name": "stdout",
     "output_type": "stream",
     "text": [
      "maximal iterator: 4\n"
     ]
    }
   ],
   "source": [
    "L=5\n",
    "filename1 = '/Users/julianthoenniss/Documents/PhD/data/FS_Jx=0.3_Jy=0.5_g=0.0mu=0_del_t=1.0_beta=5.0_L=5'\n",
    "\n",
    "\n",
    "#filename1 = '/Users/julianthoenniss/Documents/PhD/data/ent_entropy_Jx=0.7853981633974483_Jy=0.0_g=0.7853981633974483_del_t=1_beta=1.0_L=' + str(60)\n",
    "\n",
    "with h5py.File(filename1 + '.hdf5', 'r') as f:\n",
    "    data_entr = f['temp_entr']\n",
    "    print('maximal iterator:',len(data_entr[:])-1)"
   ]
  },
  {
   "cell_type": "code",
   "execution_count": 266,
   "id": "a3eb300f",
   "metadata": {},
   "outputs": [
    {
     "name": "stdout",
     "output_type": "stream",
     "text": [
      "time step: 3\n",
      "maximal time: 3\n"
     ]
    }
   ],
   "source": [
    "iterator = 2\n",
    "times = []\n",
    "time_step = 0\n",
    "with h5py.File(filename1 + '.hdf5', 'r') as f:\n",
    "    data_entr = f['temp_entr']\n",
    "    times = data_entr[:,0]\n",
    "    time_step = int(times[iterator])\n",
    "\n",
    "max_time = int(max(times))\n",
    "print('time step:', time_step)\n",
    "print('maximal time:', max_time)"
   ]
  },
  {
   "cell_type": "code",
   "execution_count": 267,
   "id": "6e674980",
   "metadata": {},
   "outputs": [
    {
     "name": "stdout",
     "output_type": "stream",
     "text": [
      "110\n",
      "(-0.11319681888395931-0.1310616859981184j)\n",
      "(-3.774399204041927+4.37007972652304j)\n"
     ]
    }
   ],
   "source": [
    "A_inv = np.zeros((2*(4*time_step-1)*L,2*(4*time_step-1)*L), dtype=np.complex_)\n",
    "print(2*(4*time_step-1)*L)\n",
    "with h5py.File(filename1 + '.hdf5', 'r') as f:\n",
    "    data_bulk_corr = f['bulk_corr']\n",
    "    \n",
    "    A_inv[:,:] = data_bulk_corr[iterator,:2*(4*time_step-1)*L,:2*(4*time_step-1)*L]\n",
    "    \n",
    "\n",
    "N=2291.272748884509\n",
    "print(det(A_inv)/N)\n",
    "print(N/det(A_inv))"
   ]
  },
  {
   "cell_type": "code",
   "execution_count": 139,
   "id": "cff5d3b2",
   "metadata": {},
   "outputs": [],
   "source": [
    "edge_corr = np.zeros((2*(4*time_step-1),2*(4*time_step-1)), dtype=np.complex_)\n",
    "\n",
    "with h5py.File(filename1 + '.hdf5', 'r') as f:\n",
    "    data_edge_corr = f['edge_corr']\n",
    "    \n",
    "    edge_corr[:,:] = data_edge_corr[iterator,:2*(4*time_step-1),:2*(4*time_step-1)]\n",
    "\n"
   ]
  },
  {
   "cell_type": "code",
   "execution_count": null,
   "id": "a35fb2b7",
   "metadata": {},
   "outputs": [],
   "source": [
    "fig, ax = plt.subplots()\n",
    "plt.rcParams['figure.figsize'] = [10, 5]\n",
    "\n",
    "im = ax.matshow(np.real(A_inv))\n",
    "fig.colorbar( im, orientation='vertical')\n",
    "im.set_clim(-1,1)\n",
    "ax.yaxis.set_ticks_position('both')\n",
    "ax.tick_params(axis=\"y\",direction=\"in\")\n",
    "ax.tick_params(axis=\"x\",direction=\"in\")\n",
    "ax.legend(loc=\"upper right\")"
   ]
  },
  {
   "cell_type": "code",
   "execution_count": 140,
   "id": "51b4e583",
   "metadata": {},
   "outputs": [
    {
     "data": {
      "text/plain": [
       "<matplotlib.legend.Legend at 0x7ff3ad698e20>"
      ]
     },
     "execution_count": 140,
     "metadata": {},
     "output_type": "execute_result"
    },
    {
     "data": {
      "image/png": "[encoded data removed]",
      "text/plain": [
       "<Figure size 720x360 with 1 Axes>"
      ]
     },
     "metadata": {
      "needs_background": "light"
     },
     "output_type": "display_data"
    }
   ],
   "source": [
    "fig, ax = plt.subplots()\n",
    "plt.rcParams['figure.figsize'] = [10, 5]\n",
    "\n",
    "ax.set_xlabel(r'$t-t_0$')\n",
    "corr= []\n",
    "for tau in range ((4*time_step-2)-1, -1, -4):\n",
    "    corr.append(abs(edge_corr[tau,(4*time_step-2)]))\n",
    "    \n",
    "#ax.set_ylim([1.e-16,1.2])\n",
    "\n",
    "#ax.set_xscale('log')\n",
    "#ax.set_yscale('log')\n",
    "    \n",
    "ax.plot( np.arange(len(corr)), zero_to_nan(np.real(corr)), label=r'$B(t-t_0)$', marker='o', alpha=.5, ms=5)\n",
    "#ax.plot(np.arange(2,len(corr)), 1 * np.arange(2,len(corr), dtype=float)**(-1.5), '--',label= r'$t^{-3/2}$')\n",
    "\n",
    "ax.legend(loc=\"upper left\")"
   ]
  },
  {
   "cell_type": "code",
   "execution_count": 157,
   "id": "b9ff267d",
   "metadata": {},
   "outputs": [
    {
     "name": "stdout",
     "output_type": "stream",
     "text": [
      "(196616807.5064619+211933323.94764495j)\n"
     ]
    }
   ],
   "source": [
    "print(det(A_inv))"
   ]
  },
  {
   "cell_type": "code",
   "execution_count": null,
   "id": "988e8698",
   "metadata": {},
   "outputs": [],
   "source": []
  }
 ],
 "metadata": {
  "kernelspec": {
   "display_name": "Python 3",
   "language": "python",
   "name": "python3"
  },
  "language_info": {
   "codemirror_mode": {
    "name": "ipython",
    "version": 3
   },
   "file_extension": ".py",
   "mimetype": "text/x-python",
   "name": "python",
   "nbconvert_exporter": "python",
   "pygments_lexer": "ipython3",
   "version": "3.8.8"
  }
 },
 "nbformat": 4,
 "nbformat_minor": 5
}
